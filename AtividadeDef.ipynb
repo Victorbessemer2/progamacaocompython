{
  "nbformat": 4,
  "nbformat_minor": 0,
  "metadata": {
    "colab": {
      "provenance": [],
      "authorship_tag": "ABX9TyNnqnHCZJDwtVqQdhBMZR8n",
      "include_colab_link": true
    },
    "kernelspec": {
      "name": "python3",
      "display_name": "Python 3"
    },
    "language_info": {
      "name": "python"
    }
  },
  "cells": [
    {
      "cell_type": "markdown",
      "metadata": {
        "id": "view-in-github",
        "colab_type": "text"
      },
      "source": [
        "<a href=\"https://colab.research.google.com/github/Victorbessemer2/progamacaocompython/blob/main/AtividadeDef.ipynb\" target=\"_parent\"><img src=\"https://colab.research.google.com/assets/colab-badge.svg\" alt=\"Open In Colab\"/></a>"
      ]
    },
    {
      "cell_type": "markdown",
      "source": [
        "# **Calcular compra**"
      ],
      "metadata": {
        "id": "Q4PGCw4-6Eux"
      }
    },
    {
      "cell_type": "code",
      "execution_count": null,
      "metadata": {
        "id": "_s9uh3Gi5fGk"
      },
      "outputs": [],
      "source": [
        "def calcular_total_compra(precos):\n",
        "    return sum(precos)"
      ]
    },
    {
      "cell_type": "code",
      "source": [
        "num_itens = 3\n",
        "precos = [10.50, 5.20, 8.30]\n",
        "total = calcular_total_compra(precos)\n",
        "print(f\"O valor total da compra é: R$ {total:.2f}\")"
      ],
      "metadata": {
        "colab": {
          "base_uri": "https://localhost:8080/"
        },
        "id": "AcmzluEy5_G8",
        "outputId": "4dc5687e-fead-4c62-f663-48a1899a3c89"
      },
      "execution_count": null,
      "outputs": [
        {
          "output_type": "stream",
          "name": "stdout",
          "text": [
            "O valor total da compra é: R$ 24.00\n"
          ]
        }
      ]
    },
    {
      "cell_type": "markdown",
      "source": [
        "# **Eleição**"
      ],
      "metadata": {
        "id": "CiT259ba60nI"
      }
    },
    {
      "cell_type": "code",
      "source": [
        "def realizar_votacao():\n",
        "  votos = {1: 0, 2: 0, 3: 0}\n",
        "  votos_simulados = [1, 3, 2, 3, 0]\n",
        "  for voto in votos_simulados:\n",
        "        if voto == 0:\n",
        "            break\n",
        "        elif voto in votos:\n",
        "            votos[voto] += 1\n",
        "        else:\n",
        "            print(\"Voto inválido! Tente novamente.\")\n",
        "  print(\"\\nResultado da votação:\")\n",
        "  print(f\"Candidato A: {votos[1]} voto(s)\")\n",
        "  print(f\"Candidato B: {votos[2]} voto(s)\")\n",
        "  print(f\"Candidato C: {votos[3]} voto(s)\")"
      ],
      "metadata": {
        "id": "B3USs7vN68nw"
      },
      "execution_count": null,
      "outputs": []
    },
    {
      "cell_type": "code",
      "source": [
        "realizar_votacao()"
      ],
      "metadata": {
        "id": "moRPgAtL7Ybu"
      },
      "execution_count": null,
      "outputs": []
    }
  ]
}