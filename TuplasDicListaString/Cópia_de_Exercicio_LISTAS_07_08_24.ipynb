{
  "nbformat": 4,
  "nbformat_minor": 0,
  "metadata": {
    "colab": {
      "provenance": [],
      "include_colab_link": true
    },
    "kernelspec": {
      "name": "python3",
      "display_name": "Python 3"
    },
    "language_info": {
      "name": "python"
    }
  },
  "cells": [
    {
      "cell_type": "markdown",
      "metadata": {
        "id": "view-in-github",
        "colab_type": "text"
      },
      "source": [
        "<a href=\"https://colab.research.google.com/github/Victorbessemer2/progamacaocompython/blob/main/TuplasDicListaString/C%C3%B3pia_de_Exercicio_LISTAS_07_08_24.ipynb\" target=\"_parent\"><img src=\"https://colab.research.google.com/assets/colab-badge.svg\" alt=\"Open In Colab\"/></a>"
      ]
    },
    {
      "cell_type": "markdown",
      "source": [
        "# **Exercícios apos a explicação**"
      ],
      "metadata": {
        "id": "Fv1r44TLwVKM"
      }
    },
    {
      "cell_type": "markdown",
      "source": [
        "## 1. Soma dos Elementos da Lista\n",
        "Dada uma lista de números, calcule a soma de todos os elementos."
      ],
      "metadata": {
        "id": "b9nEDJF0wjrc"
      }
    },
    {
      "cell_type": "code",
      "execution_count": 25,
      "metadata": {
        "id": "woHYcqQCwA-u",
        "colab": {
          "base_uri": "https://localhost:8080/"
        },
        "outputId": "b404ccaf-32ab-4b5a-8066-b73aab04ba02"
      },
      "outputs": [
        {
          "output_type": "stream",
          "name": "stdout",
          "text": [
            "A soma dos elementos é: 15\n"
          ]
        }
      ],
      "source": [
        "lista = [1, 2, 3, 4, 5]\n",
        "soma = 0\n",
        "for numero in lista:\n",
        "    soma = soma + numero\n",
        "print(\"A soma dos elementos é:\", soma)"
      ]
    },
    {
      "cell_type": "markdown",
      "source": [
        "## 2. Produto dos elementos da lista\n",
        "Dada uma lista de números, calcule o produto de todos os elementos."
      ],
      "metadata": {
        "id": "jRKcmWKiw0z8"
      }
    },
    {
      "cell_type": "code",
      "source": [
        "lista2 = [1, 2, 3, 4, 5]\n",
        "multi = 1\n",
        "for numero in lista2:\n",
        "    multi = multi * numero\n",
        "\n",
        "print(\"A multiplicação dos elementos é:\", multi)"
      ],
      "metadata": {
        "id": "fLbEGjowwaZe",
        "colab": {
          "base_uri": "https://localhost:8080/"
        },
        "outputId": "c90393f6-e765-4086-823b-041071912fac"
      },
      "execution_count": 26,
      "outputs": [
        {
          "output_type": "stream",
          "name": "stdout",
          "text": [
            "A multiplicação dos elementos é: 120\n"
          ]
        }
      ]
    },
    {
      "cell_type": "markdown",
      "source": [
        "## 3. Encontre o menor elemento\n",
        "Dada uma lista de números, encontre o menor elemento."
      ],
      "metadata": {
        "id": "-Er6OsAyxFQj"
      }
    },
    {
      "cell_type": "code",
      "source": [
        "lista3 = [1, 2, 3, 4, 5]\n",
        "menor = lista3[0]\n",
        "for numero in lista3:\n",
        "    if numero < menor:\n",
        "        menor = numero\n",
        "print(\"O menor elemento é:\", menor)"
      ],
      "metadata": {
        "id": "KVoiJ_u0xKvc",
        "colab": {
          "base_uri": "https://localhost:8080/"
        },
        "outputId": "439a70d2-04fc-4d3b-b258-6e775dd09221"
      },
      "execution_count": 27,
      "outputs": [
        {
          "output_type": "stream",
          "name": "stdout",
          "text": [
            "O menor elemento é: 1\n"
          ]
        }
      ]
    },
    {
      "cell_type": "markdown",
      "source": [
        "## 4. Encontre o maior elemento\n",
        "Dada uma lista de números, encontre o maior elemento."
      ],
      "metadata": {
        "id": "WXYaMI7FxQXk"
      }
    },
    {
      "cell_type": "code",
      "source": [
        "lista4 = [1, 2, 3, 4, 5]\n",
        "maior = lista3[0]\n",
        "for numero in lista3:\n",
        "    if numero > maior:\n",
        "        maior = numero\n",
        "print(\"O menor elemento é:\", maior)"
      ],
      "metadata": {
        "id": "DoNhSLyuxb19",
        "colab": {
          "base_uri": "https://localhost:8080/"
        },
        "outputId": "cc5601f3-a286-4a0c-a521-f187135354b4"
      },
      "execution_count": 28,
      "outputs": [
        {
          "output_type": "stream",
          "name": "stdout",
          "text": [
            "O menor elemento é: 5\n"
          ]
        }
      ]
    },
    {
      "cell_type": "markdown",
      "source": [
        "## 5. Contar Ocorrências de um Elemento\n",
        "Dada uma lista de números e um número alvo, conte quantas vezes o alvo aparece na lista."
      ],
      "metadata": {
        "id": "BkHVHCiPxgTs"
      }
    },
    {
      "cell_type": "code",
      "source": [
        "lista5 = [1, 2, 3, 4, 3, 2, 1]\n",
        "lista5.count(1)"
      ],
      "metadata": {
        "id": "Hreq56gixmYC",
        "colab": {
          "base_uri": "https://localhost:8080/"
        },
        "outputId": "811751a1-58ae-490e-d03a-070b75f036e4"
      },
      "execution_count": 29,
      "outputs": [
        {
          "output_type": "execute_result",
          "data": {
            "text/plain": [
              "2"
            ]
          },
          "metadata": {},
          "execution_count": 29
        }
      ]
    },
    {
      "cell_type": "markdown",
      "source": [
        "## 6. Remover duplicatas\n",
        "Dada uma lista de números, crie uma nova lista sem elementos duplicados."
      ],
      "metadata": {
        "id": "zSsy12F-xrVT"
      }
    },
    {
      "cell_type": "code",
      "source": [
        "lista6 = [1, 2, 2, 3, 4, 4, 5]\n",
        "lista6.remove(2)\n",
        "lista6.remove(4)\n",
        "lista = lista6\n",
        "print(lista)"
      ],
      "metadata": {
        "id": "9N35r8abxydM",
        "colab": {
          "base_uri": "https://localhost:8080/"
        },
        "outputId": "5fe4d1f5-ee1c-4ec4-f118-151d82e3fae3"
      },
      "execution_count": 30,
      "outputs": [
        {
          "output_type": "stream",
          "name": "stdout",
          "text": [
            "[1, 2, 3, 4, 5]\n"
          ]
        }
      ]
    },
    {
      "cell_type": "markdown",
      "source": [
        "## 7. Inverter uma lista\n",
        "Dada uma lista de números, inverta a ordem dos elementos."
      ],
      "metadata": {
        "id": "Ev1YAUF9x3o8"
      }
    },
    {
      "cell_type": "code",
      "source": [
        "lista6 = [1, 2, 3, 4, 5]\n",
        "lista6.reverse()\n",
        "lista6"
      ],
      "metadata": {
        "id": "X8YLy9uqx9kz",
        "colab": {
          "base_uri": "https://localhost:8080/"
        },
        "outputId": "f2fd5e26-e67f-416b-ecc1-1c8d4a807fe2"
      },
      "execution_count": 31,
      "outputs": [
        {
          "output_type": "execute_result",
          "data": {
            "text/plain": [
              "[5, 4, 3, 2, 1]"
            ]
          },
          "metadata": {},
          "execution_count": 31
        }
      ]
    },
    {
      "cell_type": "markdown",
      "source": [
        "## 8. Intercalar Duas Listas\n",
        "Dadas duas listas de números, crie uma nova lista intercalando os elementos das duas listas."
      ],
      "metadata": {
        "id": "1k2bPDTPyB-L"
      }
    },
    {
      "cell_type": "code",
      "source": [
        "lista81 = [1, 3, 5]\n",
        "lista82 = [2, 4, 6]\n",
        "lista83 = [lista81[0], lista82[0], lista81[1], lista82[1], lista81[2], lista82[2]]\n",
        "lista83"
      ],
      "metadata": {
        "id": "TXajIrGxyH3j",
        "colab": {
          "base_uri": "https://localhost:8080/"
        },
        "outputId": "e8d63eb1-ae93-48d9-c510-a9c1541cb426"
      },
      "execution_count": 35,
      "outputs": [
        {
          "output_type": "execute_result",
          "data": {
            "text/plain": [
              "[1, 2, 3, 4, 5, 6]"
            ]
          },
          "metadata": {},
          "execution_count": 35
        }
      ]
    },
    {
      "cell_type": "markdown",
      "source": [
        "## 9. Somar Elementos Correspondentes de Duas Listas\n",
        "Dadas duas listas de números de mesmo tamanho, crie uma nova lista com a soma dos elementos correspondentes."
      ],
      "metadata": {
        "id": "ewiPtV9MyP1q"
      }
    },
    {
      "cell_type": "code",
      "source": [
        "lista91 = [1, 2, 3]\n",
        "lista92 = [4, 5, 6]\n",
        "lista93 = [lista91[0] + lista92[0], lista91[1] + lista92[1], lista91[2] + lista92[2]]\n",
        "lista93"
      ],
      "metadata": {
        "id": "0-4qe89uyVWT",
        "colab": {
          "base_uri": "https://localhost:8080/"
        },
        "outputId": "ceae1cbf-29e1-47ef-9825-7c47af4539c1"
      },
      "execution_count": 33,
      "outputs": [
        {
          "output_type": "execute_result",
          "data": {
            "text/plain": [
              "[5, 7, 9]"
            ]
          },
          "metadata": {},
          "execution_count": 33
        }
      ]
    },
    {
      "cell_type": "markdown",
      "source": [
        "**negrito**## 1. Mover Zeros para o Fim\n",
        "Dada uma lista de números, mova todos os zeros para o final da lista."
      ],
      "metadata": {
        "id": "QX-QkQg5ybQa"
      }
    },
    {
      "cell_type": "code",
      "source": [
        "lista10 = [0, 1, 0, 3, 12]\n",
        "lista10.remove(0)\n",
        "lista10.remove(0)\n",
        "lista10.append(0)\n",
        "lista10.append(0)\n",
        "lista10"
      ],
      "metadata": {
        "id": "i8jHZT30ygD6",
        "colab": {
          "base_uri": "https://localhost:8080/"
        },
        "outputId": "221a9a97-03cc-4013-cf49-f08c7a9e5104"
      },
      "execution_count": 34,
      "outputs": [
        {
          "output_type": "execute_result",
          "data": {
            "text/plain": [
              "[1, 3, 12, 0, 0]"
            ]
          },
          "metadata": {},
          "execution_count": 34
        }
      ]
    },
    {
      "cell_type": "markdown",
      "source": [
        "# **Exercicios da explicação**\n",
        "\n",
        "\n"
      ],
      "metadata": {
        "id": "i__yjMKXh0tV"
      }
    },
    {
      "cell_type": "markdown",
      "source": [
        "Exercício 12: Manipulação de Listas\n",
        "Defina uma lista com 5 nomes de cidades.\n",
        "Adicione uma nova cidade ao final da lista.\n",
        "Remova a segunda cidade da lista.\n",
        "Imprima a lista resultante."
      ],
      "metadata": {
        "id": "d2a1dEWT2sTa"
      }
    },
    {
      "cell_type": "code",
      "source": [
        "cidades = ['Recife', 'Manaus', 'Salvador','São Paulo', 'Fortaleza']\n",
        "cidades.append('Rio de Janeiro')\n",
        "cidades.remove('Manaus')\n",
        "print(cidades)"
      ],
      "metadata": {
        "id": "sYUYskLp3Cu9",
        "colab": {
          "base_uri": "https://localhost:8080/"
        },
        "outputId": "21486b87-bd17-4b50-de53-dc7d377331ad"
      },
      "execution_count": 2,
      "outputs": [
        {
          "output_type": "stream",
          "name": "stdout",
          "text": [
            "['Recife', 'Salvador', 'São Paulo', 'Fortaleza', 'Rio de Janeiro']\n"
          ]
        }
      ]
    },
    {
      "cell_type": "markdown",
      "source": [
        "Exercício 3: Operações com Tuplas\n",
        "Defina uma tupla com 4 cores.\n",
        "Crie uma nova tupla que seja a concatenação da tupla original com outra contendo mais 2 cores.\n",
        "Imprima a nova tupla."
      ],
      "metadata": {
        "id": "OIxjyLlo2u04"
      }
    },
    {
      "cell_type": "code",
      "source": [
        "cores = ('vermelho', 'verde', 'azul', 'amarelo')\n",
        "novas_cores = cores + ('rosa', 'laranja')\n",
        "print(novas_cores)"
      ],
      "metadata": {
        "id": "D_PFizjb3GU3",
        "colab": {
          "base_uri": "https://localhost:8080/"
        },
        "outputId": "6ca7cf0b-2289-4468-e1ae-09f30d2e752d"
      },
      "execution_count": 3,
      "outputs": [
        {
          "output_type": "stream",
          "name": "stdout",
          "text": [
            "('vermelho', 'verde', 'azul', 'amarelo', 'rosa', 'laranja')\n"
          ]
        }
      ]
    },
    {
      "cell_type": "markdown",
      "source": [
        "Exercício 13: Dicionários Simples\n",
        "Crie um dicionário para representar um aluno, contendo \"nome\", \"idade\" e \"curso\".\n",
        "\n",
        "Atualize a idade do aluno.\n",
        "Adicione uma nova chave \"nota\" com um valor.\n",
        "Imprima o dicionário atualizado"
      ],
      "metadata": {
        "id": "4C5yTX2s23F_"
      }
    },
    {
      "cell_type": "code",
      "source": [
        "estudante = {\n",
        "    \"nome\": \" Victor\", \"idade\": 15, \"curso\": \"Engenharia\",\n",
        "}\n",
        "estudante[\"idade\"] = 19\n",
        "estudante[\"nota\"] = 10\n",
        "print(estudante)"
      ],
      "metadata": {
        "id": "71iqLnWj3ItU",
        "colab": {
          "base_uri": "https://localhost:8080/"
        },
        "outputId": "b4cbefea-6a76-4e1d-d7ed-1ea828f60718"
      },
      "execution_count": 4,
      "outputs": [
        {
          "output_type": "stream",
          "name": "stdout",
          "text": [
            "{'nome': ' Victor', 'idade': 19, 'curso': 'Engenharia', 'nota': 10}\n"
          ]
        }
      ]
    },
    {
      "cell_type": "markdown",
      "source": [
        "Exercício 14: Listas e Dicionários\n",
        "Crie uma lista de dicionários, onde cada dicionário representa um produto com as chaves \"nome\" e \"preço\".\n",
        "Adicione um novo produto à lista.\n",
        "Atualize o preço do primeiro produto na lista.\n",
        "Imprima a lista resultante."
      ],
      "metadata": {
        "id": "6Ro4L8Op27m4"
      }
    },
    {
      "cell_type": "code",
      "source": [
        "cardapio = {\"macarão\": 26.90, \"cafe\": 4.0}\n",
        "cardapio2 = {\"arroz frito\": 17.90}\n",
        "cardapio.update(cardapio2)\n",
        "cardapio[\"macarão\"] = 27.90\n",
        "print(cardapio)"
      ],
      "metadata": {
        "id": "sjb0p0YM3Pga",
        "colab": {
          "base_uri": "https://localhost:8080/"
        },
        "outputId": "74ecfe16-1559-4db9-8955-e888f1ced8c7"
      },
      "execution_count": 5,
      "outputs": [
        {
          "output_type": "stream",
          "name": "stdout",
          "text": [
            "{'macarão': 27.9, 'cafe': 4.0, 'arroz frito': 17.9}\n"
          ]
        }
      ]
    },
    {
      "cell_type": "markdown",
      "source": [
        "Exercício 15: Analisando uma Lista de Tuplas\n",
        "Crie uma lista de tuplas, onde cada tupla contém um par (nome, idade).\n",
        "Encontre e imprima o nome da pessoa mais velha.\n",
        "Encontre e imprima a idade média das pessoas."
      ],
      "metadata": {
        "id": "2alVa2-R2-yR"
      }
    },
    {
      "cell_type": "code",
      "source": [
        "alunos = [('victor', 10,), ('ronaldo', 16)]\n",
        "idades = []\n",
        "print(len(alunos))\n",
        "for aluno in alunos:\n",
        "    if aluno[1] >= aluno[1]:\n",
        "        idades.append(aluno[1])\n",
        "        mais_velho = aluno[0]\n",
        "\n",
        "\n",
        "\n",
        "media = sum(idades) / len(idades)\n",
        "print(\"A pessoa mais velha é:\", mais_velho)\n",
        "print(\"A média de idade é:\", media)"
      ],
      "metadata": {
        "id": "HHz6z_fi3V_Z",
        "colab": {
          "base_uri": "https://localhost:8080/"
        },
        "outputId": "ddf13f54-37a7-4ef5-a46b-252d5396c981"
      },
      "execution_count": 6,
      "outputs": [
        {
          "output_type": "stream",
          "name": "stdout",
          "text": [
            "2\n",
            "A pessoa mais velha é: ronaldo\n",
            "A média de idade é: 13.0\n"
          ]
        }
      ]
    },
    {
      "cell_type": "markdown",
      "source": [
        "# **Manipulaçao String**"
      ],
      "metadata": {
        "id": "JeJ3lt9mt2Ta"
      }
    },
    {
      "cell_type": "markdown",
      "source": [
        "# Tuplas - Acesso e Desempacotamento\n",
        "\n",
        "1) Crie uma tupla contendo três tipos diferentes de dados: um número, uma string e uma lista. Use um laço de repetição para acessar e imprimir cada item da tupla. Além disso, dentro do laço, acesse e imprima o segundo item da lista que está dentro da tupla."
      ],
      "metadata": {
        "id": "i_mpTIbmieQo"
      }
    },
    {
      "cell_type": "code",
      "source": [
        "dados = (24, \"Cíntia\",[1,2,3])\n",
        "\n",
        "for i in dados:\n",
        "  print(i)\n",
        "\n",
        "\n",
        "\n",
        "\n",
        "print(\"segundo item:\", dados[1])"
      ],
      "metadata": {
        "id": "6xsnjGwXimup"
      },
      "execution_count": null,
      "outputs": []
    },
    {
      "cell_type": "markdown",
      "source": [
        "# Dicionários - Criação e Acesso\n",
        "## Cadastro de Pessoas e Análise de Alturas\n",
        "2) Solicite ao usuário para inserir o nome e a altura de várias pessoas. Preencha um dicionário com essas informações e depois encontre e imprima o nome e a altura da pessoa mais alta e da mais baixa."
      ],
      "metadata": {
        "id": "WR9mKMl1inLX"
      }
    },
    {
      "cell_type": "code",
      "source": [
        "\n",
        "\n",
        "pessoas = {}\n",
        "\n",
        "while True:\n",
        "    nome = input(\"Insira o nome da pessoa (ou digite 'sair' para encerrar): \")\n",
        "    if nome.lower() == 'sair':\n",
        "        break\n",
        "    altura = float(input(f\"Insira a altura de {nome} em metros: \"))\n",
        "    pessoas[nome] = altura\n",
        "\n",
        "mais_baixa = 100000\n",
        "mais_alta  = 0\n",
        "nome_mais_baixa = ''\n",
        "nome_mais_alta = ''\n",
        "for nome, altura in pessoas.items():\n",
        "    if altura > mais_alta:\n",
        "        mais_alta = altura\n",
        "        nome_mais_alta = nome\n",
        "for nome, altura in pessoas.items():\n",
        "    if altura < mais_baixa:\n",
        "        mais_baixa = altura\n",
        "        nome_mais_baixa = nome\n",
        "\n",
        "\n",
        "print(f\"A pessoa mais alta é {nome_mais_alta} com {mais_alta} metros.\")\n",
        "print(f\"A pessoa mais baixa é {nome_mais_baixa} com {mais_baixa} metros.\")\n",
        "\n"
      ],
      "metadata": {
        "colab": {
          "base_uri": "https://localhost:8080/",
          "height": 393
        },
        "id": "s5MkU_3Vireu",
        "outputId": "a6fd7249-fa1d-4008-c1e2-b413fd4eb23e"
      },
      "execution_count": 24,
      "outputs": [
        {
          "name": "stdout",
          "output_type": "stream",
          "text": [
            "Insira o nome da pessoa (ou digite 'sair' para encerrar): p\n"
          ]
        },
        {
          "output_type": "error",
          "ename": "KeyboardInterrupt",
          "evalue": "Interrupted by user",
          "traceback": [
            "\u001b[0;31m---------------------------------------------------------------------------\u001b[0m",
            "\u001b[0;31mKeyboardInterrupt\u001b[0m                         Traceback (most recent call last)",
            "\u001b[0;32m<ipython-input-24-0864c68a78db>\u001b[0m in \u001b[0;36m<cell line: 3>\u001b[0;34m()\u001b[0m\n\u001b[1;32m      5\u001b[0m     \u001b[0;32mif\u001b[0m \u001b[0mnome\u001b[0m\u001b[0;34m.\u001b[0m\u001b[0mlower\u001b[0m\u001b[0;34m(\u001b[0m\u001b[0;34m)\u001b[0m \u001b[0;34m==\u001b[0m \u001b[0;34m'sair'\u001b[0m\u001b[0;34m:\u001b[0m\u001b[0;34m\u001b[0m\u001b[0;34m\u001b[0m\u001b[0m\n\u001b[1;32m      6\u001b[0m         \u001b[0;32mbreak\u001b[0m\u001b[0;34m\u001b[0m\u001b[0;34m\u001b[0m\u001b[0m\n\u001b[0;32m----> 7\u001b[0;31m     \u001b[0maltura\u001b[0m \u001b[0;34m=\u001b[0m \u001b[0mfloat\u001b[0m\u001b[0;34m(\u001b[0m\u001b[0minput\u001b[0m\u001b[0;34m(\u001b[0m\u001b[0;34mf\"Insira a altura de {nome} em metros: \"\u001b[0m\u001b[0;34m)\u001b[0m\u001b[0;34m)\u001b[0m\u001b[0;34m\u001b[0m\u001b[0;34m\u001b[0m\u001b[0m\n\u001b[0m\u001b[1;32m      8\u001b[0m     \u001b[0mpessoas\u001b[0m\u001b[0;34m[\u001b[0m\u001b[0mnome\u001b[0m\u001b[0;34m]\u001b[0m \u001b[0;34m=\u001b[0m \u001b[0maltura\u001b[0m\u001b[0;34m\u001b[0m\u001b[0;34m\u001b[0m\u001b[0m\n\u001b[1;32m      9\u001b[0m \u001b[0;34m\u001b[0m\u001b[0m\n",
            "\u001b[0;32m/usr/local/lib/python3.10/dist-packages/ipykernel/kernelbase.py\u001b[0m in \u001b[0;36mraw_input\u001b[0;34m(self, prompt)\u001b[0m\n\u001b[1;32m    849\u001b[0m                 \u001b[0;34m\"raw_input was called, but this frontend does not support input requests.\"\u001b[0m\u001b[0;34m\u001b[0m\u001b[0;34m\u001b[0m\u001b[0m\n\u001b[1;32m    850\u001b[0m             )\n\u001b[0;32m--> 851\u001b[0;31m         return self._input_request(str(prompt),\n\u001b[0m\u001b[1;32m    852\u001b[0m             \u001b[0mself\u001b[0m\u001b[0;34m.\u001b[0m\u001b[0m_parent_ident\u001b[0m\u001b[0;34m,\u001b[0m\u001b[0;34m\u001b[0m\u001b[0;34m\u001b[0m\u001b[0m\n\u001b[1;32m    853\u001b[0m             \u001b[0mself\u001b[0m\u001b[0;34m.\u001b[0m\u001b[0m_parent_header\u001b[0m\u001b[0;34m,\u001b[0m\u001b[0;34m\u001b[0m\u001b[0;34m\u001b[0m\u001b[0m\n",
            "\u001b[0;32m/usr/local/lib/python3.10/dist-packages/ipykernel/kernelbase.py\u001b[0m in \u001b[0;36m_input_request\u001b[0;34m(self, prompt, ident, parent, password)\u001b[0m\n\u001b[1;32m    893\u001b[0m             \u001b[0;32mexcept\u001b[0m \u001b[0mKeyboardInterrupt\u001b[0m\u001b[0;34m:\u001b[0m\u001b[0;34m\u001b[0m\u001b[0;34m\u001b[0m\u001b[0m\n\u001b[1;32m    894\u001b[0m                 \u001b[0;31m# re-raise KeyboardInterrupt, to truncate traceback\u001b[0m\u001b[0;34m\u001b[0m\u001b[0;34m\u001b[0m\u001b[0m\n\u001b[0;32m--> 895\u001b[0;31m                 \u001b[0;32mraise\u001b[0m \u001b[0mKeyboardInterrupt\u001b[0m\u001b[0;34m(\u001b[0m\u001b[0;34m\"Interrupted by user\"\u001b[0m\u001b[0;34m)\u001b[0m \u001b[0;32mfrom\u001b[0m \u001b[0;32mNone\u001b[0m\u001b[0;34m\u001b[0m\u001b[0;34m\u001b[0m\u001b[0m\n\u001b[0m\u001b[1;32m    896\u001b[0m             \u001b[0;32mexcept\u001b[0m \u001b[0mException\u001b[0m \u001b[0;32mas\u001b[0m \u001b[0me\u001b[0m\u001b[0;34m:\u001b[0m\u001b[0;34m\u001b[0m\u001b[0;34m\u001b[0m\u001b[0m\n\u001b[1;32m    897\u001b[0m                 \u001b[0mself\u001b[0m\u001b[0;34m.\u001b[0m\u001b[0mlog\u001b[0m\u001b[0;34m.\u001b[0m\u001b[0mwarning\u001b[0m\u001b[0;34m(\u001b[0m\u001b[0;34m\"Invalid Message:\"\u001b[0m\u001b[0;34m,\u001b[0m \u001b[0mexc_info\u001b[0m\u001b[0;34m=\u001b[0m\u001b[0;32mTrue\u001b[0m\u001b[0;34m)\u001b[0m\u001b[0;34m\u001b[0m\u001b[0;34m\u001b[0m\u001b[0m\n",
            "\u001b[0;31mKeyboardInterrupt\u001b[0m: Interrupted by user"
          ]
        }
      ]
    },
    {
      "cell_type": "markdown",
      "source": [
        "# Lista, laços e Condicionais\n",
        "3) Descrição: Crie uma listacom cinco números inteiros. Use um laço de repetição e uma condicional para imprimir apenas os números que são múltiplos de 3."
      ],
      "metadata": {
        "id": "4qCFKRzlirn9"
      }
    },
    {
      "cell_type": "code",
      "source": [
        "\n",
        "numeros = [10, 15, 23, 9, 30]\n",
        "\n",
        "for numero in numeros:\n",
        "    if numero % 3 == 0:\n",
        "        print(numero)"
      ],
      "metadata": {
        "id": "jMUBMypxiwe9"
      },
      "execution_count": null,
      "outputs": []
    },
    {
      "cell_type": "markdown",
      "source": [
        "# Manipulação de Strings e Condicionais\n",
        "4) Descrição: Crie uma string com uma frase. Use uma condicional para verificar se a frase contém a palavra \"Python\". Se sim, substitua a palavra \"Python\" por \"programação\" e imprima a nova frase."
      ],
      "metadata": {
        "id": "x0Vi2aB2iwnA"
      }
    },
    {
      "cell_type": "code",
      "source": [
        "\n",
        "frase = \"Estou aprendendo Python e é muito legal!\"\n",
        "\n",
        "if \"Python\" in frase:\n",
        "    nova_frase = frase.replace(\"Python\", \"programação\")\n",
        "    print(nova_frase)\n",
        "else:\n",
        "    print(\"A palavra 'Python' não foi encontrada na frase.\")"
      ],
      "metadata": {
        "id": "hfLwR35sop6Z"
      },
      "execution_count": null,
      "outputs": []
    },
    {
      "cell_type": "markdown",
      "source": [
        "# Simulação de Alfândega com Cadastro Dinâmico de Itens usando dicionário\n",
        "5) Simule uma situação de alfândega onde o funcionário cadastra itens novos encontrados na mala de uma pessoa que veio de uma viagem internacional. Após o cadastro de todos os itens, o programa imprime uma nota com todos os itens e seus preços, calcula o valor total e, se o valor total ultrapassar 500 dólares, calcula o valor de 60% a ser pago."
      ],
      "metadata": {
        "id": "QhjagvShoqQ6"
      }
    },
    {
      "cell_type": "code",
      "source": [
        "\n",
        "itens = {}\n",
        "\n",
        "while True:\n",
        "    item = input(\"Nome do item (ou 'sair' para encerrar): \")\n",
        "    if item.lower() == 'sair':\n",
        "        break\n",
        "    preco = float(input(f\"Preço de {item} em dólares: \"))\n",
        "    itens[item] = preco\n",
        "\n",
        "valor_total = sum(itens.values())\n",
        "\n",
        "print(\"\\nNota da Alfândega:\")\n",
        "for item, preco in itens.items():\n",
        "    print(f\"{item}: ${preco:.2f}\")\n",
        "\n",
        "print(f\"\\nValor total: ${valor_total:.2f}\")\n",
        "\n",
        "if valor_total > 500:\n",
        "    taxa = valor_total * 0.60\n",
        "    print(f\"\\nValor a ser pago (60% do total): ${taxa:.2f}\")\n",
        "else:\n",
        "    print(\"Não há taxa a ser paga.\")"
      ],
      "metadata": {
        "id": "g7qsKyT2osnJ"
      },
      "execution_count": null,
      "outputs": []
    },
    {
      "cell_type": "markdown",
      "source": [
        "# Identificação de Palavras Negativas em um Texto\n",
        "6) Você vai criar um programa em Python para analisar um texto e identificar palavras que expressam pensamentos negativos. Para isso, você usará uma lista de palavras negativas fornecida e verificará quais dessas palavras estão presentes no texto fornecido pelo usuário. Exemplo de palavras negtivas, acrescente mais na lista: # Lista de palavras negativas palavras_negativas = ['triste', 'deprimido', 'ansioso', 'desapontado', 'frustrado']"
      ],
      "metadata": {
        "id": "WiNhOWPbostQ"
      }
    },
    {
      "cell_type": "code",
      "source": [
        "\n",
        "palavras_negativas = ['triste', 'deprimido', 'ansioso', 'desapontado', 'frustrado']\n",
        "\n",
        "texto = input(\"Digite um texto: \").lower()\n",
        "\n",
        "for palavra in palavras_negativas:\n",
        "    if palavra in texto:\n",
        "        print(f\"Palavra negativa encontrada: {palavra}\")"
      ],
      "metadata": {
        "id": "eQ_MdESdovqj"
      },
      "execution_count": null,
      "outputs": []
    },
    {
      "cell_type": "markdown",
      "source": [
        "# **Manipulaçao String**"
      ],
      "metadata": {
        "id": "4hPlw1BNuDlF"
      }
    },
    {
      "cell_type": "code",
      "source": [
        "# 1 - Use o método len para imprimir o comprimento da string.\n",
        "x = \"Hello World\"\n",
        "print(len(x))"
      ],
      "metadata": {
        "id": "A8w4_9Q8uITj"
      },
      "execution_count": null,
      "outputs": []
    },
    {
      "cell_type": "code",
      "source": [
        "# 2 - Obtenha o primeiro caractere da string txt.\n",
        "txt = \"Hello World\"\n",
        "x = txt[0]\n",
        "print(x)"
      ],
      "metadata": {
        "id": "jqsdE3RGuKOv"
      },
      "execution_count": null,
      "outputs": []
    },
    {
      "cell_type": "code",
      "source": [
        "# 3 - Obtenha os caracteres do índice 2 ao índice 4 ( llo).\n",
        "txt = \"Hello World\"\n",
        "print (txt[2:5])"
      ],
      "metadata": {
        "id": "6qVIGdXDuMf-"
      },
      "execution_count": null,
      "outputs": []
    },
    {
      "cell_type": "code",
      "source": [
        "# 4 - Converta o valor de txt para maiúsculas.\n",
        "txt = \"Hello World\"\n",
        "txt = txt.upper()\n",
        "print(txt)"
      ],
      "metadata": {
        "id": "7Sa9VcPOuR_q"
      },
      "execution_count": null,
      "outputs": []
    },
    {
      "cell_type": "code",
      "source": [
        "# 5 - Conte quantas vezes aparece a palavra \"de\" na string abaixo\n",
        "txt = \"Eu gosto de vijar, tomar vinho, de estudar estudar programação, de estudar Pyhon\"\n",
        "x = txt.count(\"de\")\n",
        "print(x)"
      ],
      "metadata": {
        "id": "P6N_dX49uSjW"
      },
      "execution_count": null,
      "outputs": []
    },
    {
      "cell_type": "code",
      "source": [
        "# 6 - Separe a frase abaixo toda vez que encontrar um vírgula\n",
        "txt = \"Eu gosto de vijar, tomar vinho, de estudar estudar programação, de estudar Pyhon\"\n",
        "x = txt.split(\",\")\n",
        "print(x)"
      ],
      "metadata": {
        "id": "GhmfVFC3uVg0"
      },
      "execution_count": null,
      "outputs": []
    },
    {
      "cell_type": "code",
      "source": [
        "#7 - Peça ao usuário uma frase e substitua todas as ocorrências de espaço por “#”.\n",
        "frase = input(\"Digite uma frase: \")\n",
        "frase.replace(\" \", \"#\")"
      ],
      "metadata": {
        "id": "mre6jhxtuXty"
      },
      "execution_count": null,
      "outputs": []
    },
    {
      "cell_type": "code",
      "source": [
        "# 8 - Faça um programa que retorne True se duas strings lidas do teclado são palíndromas mútuas, ou seja, se uma é igual à outra quando lida de traz para frente ou False, se não forem.\n",
        "# Por exemplo: amor e roma\n",
        "palavra1 = 'amor'\n",
        "palavra2 = 'roma'\n",
        "if palavra1 == palavra2[::-1]:\n",
        "  print(\"verdadeiro\")\n",
        "else:\n",
        "  print(\"falso\")"
      ],
      "metadata": {
        "id": "HhTR_WfBuaCe"
      },
      "execution_count": null,
      "outputs": []
    },
    {
      "cell_type": "code",
      "source": [
        "# 9- Faça um programa que leia o nome do usuário e mostre o nome de traz para frente, utilizando somente letras maiúsculas.\n",
        "nome = 'maria'\n",
        "nome = nome.upper()\n",
        "nome[::-1]"
      ],
      "metadata": {
        "id": "nsooApNJuc5f"
      },
      "execution_count": null,
      "outputs": []
    }
  ]
}