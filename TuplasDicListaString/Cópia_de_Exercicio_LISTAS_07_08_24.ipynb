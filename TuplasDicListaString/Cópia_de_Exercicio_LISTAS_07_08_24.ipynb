{
  "nbformat": 4,
  "nbformat_minor": 0,
  "metadata": {
    "colab": {
      "provenance": [],
      "include_colab_link": true
    },
    "kernelspec": {
      "name": "python3",
      "display_name": "Python 3"
    },
    "language_info": {
      "name": "python"
    }
  },
  "cells": [
    {
      "cell_type": "markdown",
      "metadata": {
        "id": "view-in-github",
        "colab_type": "text"
      },
      "source": [
        "<a href=\"https://colab.research.google.com/github/Victorbessemer2/progamacaocompython/blob/main/TuplasDicListaString/C%C3%B3pia_de_Exercicio_LISTAS_07_08_24.ipynb\" target=\"_parent\"><img src=\"https://colab.research.google.com/assets/colab-badge.svg\" alt=\"Open In Colab\"/></a>"
      ]
    },
    {
      "cell_type": "markdown",
      "source": [
        "# **Exercícios utilizando Listas Python**"
      ],
      "metadata": {
        "id": "Fv1r44TLwVKM"
      }
    },
    {
      "cell_type": "markdown",
      "source": [
        "## 1. Soma dos Elementos da Lista\n",
        "Dada uma lista de números, calcule a soma de todos os elementos."
      ],
      "metadata": {
        "id": "b9nEDJF0wjrc"
      }
    },
    {
      "cell_type": "code",
      "execution_count": null,
      "metadata": {
        "id": "woHYcqQCwA-u"
      },
      "outputs": [],
      "source": [
        "lista = [1, 2, 3, 4, 5]\n",
        "soma = 0\n",
        "for numero in lista:\n",
        "    soma = soma + numero\n",
        "print(\"A soma dos elementos é:\", soma)"
      ]
    },
    {
      "cell_type": "markdown",
      "source": [
        "## 2. Produto dos elementos da lista\n",
        "Dada uma lista de números, calcule o produto de todos os elementos."
      ],
      "metadata": {
        "id": "jRKcmWKiw0z8"
      }
    },
    {
      "cell_type": "code",
      "source": [
        "lista2 = [1, 2, 3, 4, 5]\n",
        "multi = 1\n",
        "for numero in lista2:\n",
        "    multi = multi * numero\n",
        "\n",
        "print(\"A multiplicação dos elementos é:\", multi)"
      ],
      "metadata": {
        "id": "fLbEGjowwaZe"
      },
      "execution_count": null,
      "outputs": []
    },
    {
      "cell_type": "markdown",
      "source": [
        "## 3. Encontre o menor elemento\n",
        "Dada uma lista de números, encontre o menor elemento."
      ],
      "metadata": {
        "id": "-Er6OsAyxFQj"
      }
    },
    {
      "cell_type": "code",
      "source": [
        "lista3 = [1, 2, 3, 4, 5]\n",
        "menor = lista3[0]\n",
        "for numero in lista3:\n",
        "    if numero < menor:\n",
        "        menor = numero\n",
        "print(\"O menor elemento é:\", menor)"
      ],
      "metadata": {
        "id": "KVoiJ_u0xKvc"
      },
      "execution_count": null,
      "outputs": []
    },
    {
      "cell_type": "markdown",
      "source": [
        "## 4. Encontre o maior elemento\n",
        "Dada uma lista de números, encontre o maior elemento."
      ],
      "metadata": {
        "id": "WXYaMI7FxQXk"
      }
    },
    {
      "cell_type": "code",
      "source": [
        "lista4 = [1, 2, 3, 4, 5]\n",
        "maior = lista3[0]\n",
        "for numero in lista3:\n",
        "    if numero > maior:\n",
        "        maior = numero\n",
        "print(\"O menor elemento é:\", maior)"
      ],
      "metadata": {
        "id": "DoNhSLyuxb19"
      },
      "execution_count": null,
      "outputs": []
    },
    {
      "cell_type": "markdown",
      "source": [
        "## 5. Contar Ocorrências de um Elemento\n",
        "Dada uma lista de números e um número alvo, conte quantas vezes o alvo aparece na lista."
      ],
      "metadata": {
        "id": "BkHVHCiPxgTs"
      }
    },
    {
      "cell_type": "code",
      "source": [
        "lista5 = [1, 2, 3, 4, 3, 2, 1]\n",
        "lista5.count(1)"
      ],
      "metadata": {
        "id": "Hreq56gixmYC"
      },
      "execution_count": null,
      "outputs": []
    },
    {
      "cell_type": "markdown",
      "source": [
        "## 6. Remover duplicatas\n",
        "Dada uma lista de números, crie uma nova lista sem elementos duplicados."
      ],
      "metadata": {
        "id": "zSsy12F-xrVT"
      }
    },
    {
      "cell_type": "code",
      "source": [
        "lista6 = [1, 2, 2, 3, 4, 4, 5]\n",
        "lista6.remove(2)\n",
        "lista6.remove(4)\n",
        "lista = lista6\n",
        "print(lista)"
      ],
      "metadata": {
        "id": "9N35r8abxydM"
      },
      "execution_count": null,
      "outputs": []
    },
    {
      "cell_type": "markdown",
      "source": [
        "## 7. Inverter uma lista\n",
        "Dada uma lista de números, inverta a ordem dos elementos."
      ],
      "metadata": {
        "id": "Ev1YAUF9x3o8"
      }
    },
    {
      "cell_type": "code",
      "source": [
        "lista6 = [1, 2, 3, 4, 5]\n",
        "lista6.reverse()\n",
        "lista6"
      ],
      "metadata": {
        "id": "X8YLy9uqx9kz"
      },
      "execution_count": null,
      "outputs": []
    },
    {
      "cell_type": "markdown",
      "source": [
        "## 8. Intercalar Duas Listas\n",
        "Dadas duas listas de números, crie uma nova lista intercalando os elementos das duas listas."
      ],
      "metadata": {
        "id": "1k2bPDTPyB-L"
      }
    },
    {
      "cell_type": "code",
      "source": [
        "lista81 = [1, 3, 5]\n",
        "lista82 = [2, 4, 6]\n",
        "lista83 = lista81 + lista82\n",
        "lista83"
      ],
      "metadata": {
        "id": "TXajIrGxyH3j"
      },
      "execution_count": null,
      "outputs": []
    },
    {
      "cell_type": "markdown",
      "source": [
        "## 9. Somar Elementos Correspondentes de Duas Listas\n",
        "Dadas duas listas de números de mesmo tamanho, crie uma nova lista com a soma dos elementos correspondentes."
      ],
      "metadata": {
        "id": "ewiPtV9MyP1q"
      }
    },
    {
      "cell_type": "code",
      "source": [
        "lista91 = [1, 2, 3]\n",
        "lista92 = [4, 5, 6]\n",
        "lista93 = [lista91[0] + lista92[0], lista91[1] + lista92[1], lista91[2] + lista92[2]]\n",
        "lista93"
      ],
      "metadata": {
        "id": "0-4qe89uyVWT"
      },
      "execution_count": null,
      "outputs": []
    },
    {
      "cell_type": "markdown",
      "source": [
        "## 10. Mover Zeros para o Fim\n",
        "Dada uma lista de números, mova todos os zeros para o final da lista."
      ],
      "metadata": {
        "id": "QX-QkQg5ybQa"
      }
    },
    {
      "cell_type": "code",
      "source": [
        "lista10 = [0, 1, 0, 3, 12]\n",
        "lista10.remove(0)\n",
        "lista10.remove(0)\n",
        "lista10.append(0)\n",
        "lista10.append(0)\n",
        "lista10"
      ],
      "metadata": {
        "id": "i8jHZT30ygD6"
      },
      "execution_count": null,
      "outputs": []
    },
    {
      "cell_type": "markdown",
      "source": [
        "Exercício 11: Manipulação de Listas\n",
        "Defina uma lista com 5 nomes de cidades.\n",
        "Adicione uma nova cidade ao final da lista.\n",
        "Remova a segunda cidade da lista.\n",
        "Imprima a lista resultante."
      ],
      "metadata": {
        "id": "d2a1dEWT2sTa"
      }
    },
    {
      "cell_type": "code",
      "source": [
        "cidades = ['Recife', 'Manaus', 'Salvador','São Paulo', 'Fortaleza']\n",
        "cidades.append('Rio de Janeiro')\n",
        "cidades.remove('Manaus')\n",
        "print(cidades)"
      ],
      "metadata": {
        "id": "sYUYskLp3Cu9"
      },
      "execution_count": null,
      "outputs": []
    },
    {
      "cell_type": "markdown",
      "source": [
        "Exercício 12: Operações com Tuplas\n",
        "Defina uma tupla com 4 cores.\n",
        "Crie uma nova tupla que seja a concatenação da tupla original com outra contendo mais 2 cores.\n",
        "Imprima a nova tupla."
      ],
      "metadata": {
        "id": "OIxjyLlo2u04"
      }
    },
    {
      "cell_type": "code",
      "source": [
        "cores = ('vermelho', 'verde', 'azul', 'amarelo')\n",
        "novas_cores = cores + ('rosa', 'laranja')\n",
        "print(novas_cores)"
      ],
      "metadata": {
        "id": "D_PFizjb3GU3"
      },
      "execution_count": null,
      "outputs": []
    },
    {
      "cell_type": "markdown",
      "source": [
        "Exercício 13: Dicionários Simples\n",
        "Crie um dicionário para representar um aluno, contendo \"nome\", \"idade\" e \"curso\".\n",
        "\n",
        "Atualize a idade do aluno.\n",
        "Adicione uma nova chave \"nota\" com um valor.\n",
        "Imprima o dicionário atualizado"
      ],
      "metadata": {
        "id": "4C5yTX2s23F_"
      }
    },
    {
      "cell_type": "code",
      "source": [
        "estudante = {\n",
        "    \"nome\": \" Victor\", \"idade\": 15, \"curso\": \"Engenharia\",\n",
        "}\n",
        "estudante[\"idade\"] = 19\n",
        "estudante[\"nota\"] = 10\n",
        "print(estudante)"
      ],
      "metadata": {
        "id": "71iqLnWj3ItU"
      },
      "execution_count": null,
      "outputs": []
    },
    {
      "cell_type": "markdown",
      "source": [
        "Exercício 14: Listas e Dicionários\n",
        "Crie uma lista de dicionários, onde cada dicionário representa um produto com as chaves \"nome\" e \"preço\".\n",
        "Adicione um novo produto à lista.\n",
        "Atualize o preço do primeiro produto na lista.\n",
        "Imprima a lista resultante."
      ],
      "metadata": {
        "id": "6Ro4L8Op27m4"
      }
    },
    {
      "cell_type": "code",
      "source": [
        "cardapio = {\"macarão\": 26.90, \"cafe\": 4.0}\n",
        "cardapio2 = {\"arroz frito\": 17.90}\n",
        "cardapio.update(cardapio2)\n",
        "cardapio[\"macarão\"] = 27.90\n",
        "print(cardapio)"
      ],
      "metadata": {
        "id": "sjb0p0YM3Pga"
      },
      "execution_count": null,
      "outputs": []
    },
    {
      "cell_type": "markdown",
      "source": [
        "Exercício 15: Analisando uma Lista de Tuplas\n",
        "Crie uma lista de tuplas, onde cada tupla contém um par (nome, idade).\n",
        "Encontre e imprima o nome da pessoa mais velha.\n",
        "Encontre e imprima a idade média das pessoas."
      ],
      "metadata": {
        "id": "2alVa2-R2-yR"
      }
    },
    {
      "cell_type": "code",
      "source": [
        "alunos = [('victor', 10,), ('ronaldo', 16)]\n",
        "idades = []\n",
        "print(len(alunos))\n",
        "for aluno in alunos:\n",
        "    if aluno[1] >= aluno[1]:\n",
        "        idades.append(aluno[1])\n",
        "        mais_velho = aluno[0]\n",
        "\n",
        "\n",
        "\n",
        "media = sum(idades) / len(idades)\n",
        "print(\"A pessoa mais velha é:\", mais_velho)\n",
        "print(\"A média de idade é:\", media)"
      ],
      "metadata": {
        "id": "HHz6z_fi3V_Z"
      },
      "execution_count": null,
      "outputs": []
    }
  ]
}