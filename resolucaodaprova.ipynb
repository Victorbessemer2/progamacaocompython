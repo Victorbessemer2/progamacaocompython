{
  "nbformat": 4,
  "nbformat_minor": 0,
  "metadata": {
    "colab": {
      "provenance": [],
      "authorship_tag": "ABX9TyPAKK1VqI+2QYWZCka9zYIH",
      "include_colab_link": true
    },
    "kernelspec": {
      "name": "python3",
      "display_name": "Python 3"
    },
    "language_info": {
      "name": "python"
    }
  },
  "cells": [
    {
      "cell_type": "markdown",
      "metadata": {
        "id": "view-in-github",
        "colab_type": "text"
      },
      "source": [
        "<a href=\"https://colab.research.google.com/github/Victorbessemer2/progamacaocompython/blob/main/resolucaodaprova.ipynb\" target=\"_parent\"><img src=\"https://colab.research.google.com/assets/colab-badge.svg\" alt=\"Open In Colab\"/></a>"
      ]
    },
    {
      "cell_type": "markdown",
      "source": [
        "1) Crie um jogo onde o usuário deve adivinhar um número secreto entre 1 e 100. O programa deve fornecer dicas sobre se o palpite do usuário está muito alto ou muito baixo. O jogo deve continuar até que o usuário adivinhe corretamente ou escolha sair."
      ],
      "metadata": {
        "id": "ki-OVtZaNIWO"
      }
    },
    {
      "cell_type": "code",
      "source": [
        "import random\n",
        "secret = random.randint(1,100)\n",
        "resp = 0\n",
        "cont = 1\n",
        "calc = 0\n",
        "pontos = 1000\n",
        "while resp!=7:\n",
        "  resp = int(input(\"Adivinhe um numero de 1 a 100: \"))\n",
        "  if resp<1 or resp>100:\n",
        "    print(\"Numero Invalido, Tente algo entre 1 e 100: \")\n",
        "    continue\n",
        "  if resp==secret:\n",
        "    print(\"Parabens voce acertou: \")\n",
        "    break\n",
        "  if resp>secret:\n",
        "    cont = cont+1\n",
        "    calc = resp-secret\n",
        "    if calc >=20 and calc <100:\n",
        "      print(\"fica frio ai\")\n",
        "    elif calc >= 10 and calc <20:\n",
        "      print(\"ta quentinho ta quentinho!! \")\n",
        "    elif calc >= 2 and calc <10:\n",
        "      print(\"pegando fogo!! \")\n",
        "    else:\n",
        "      print(\"frio\")\n",
        "  if resp<secret:\n",
        "    cont = cont+1\n",
        "    calc = secret-resp\n",
        "    if calc <= 20 and calc >10:\n",
        "      print(\"fio do taraio!!\")\n",
        "    elif calc <= 10 and calc >2:\n",
        "      print(\"morno\")\n",
        "    elif calc <= 2 :\n",
        "      print(\"chama o bombeiro!!\")\n",
        "    else:\n",
        "      print(\"frio\")\n",
        "\n",
        "pontos = pontos - (cont*5)\n",
        "print(\"Voce acertou em \",cont,\"tentativas.\")\n",
        "print(\"Pontos: \",pontos)"
      ],
      "metadata": {
        "colab": {
          "base_uri": "https://localhost:8080/"
        },
        "id": "oMk2pE8hNKPc",
        "outputId": "811199d0-cf61-4722-d070-a675975dd94b"
      },
      "execution_count": null,
      "outputs": [
        {
          "output_type": "stream",
          "name": "stdout",
          "text": [
            "Adivinhe um numero de 1 a 100: 400\n",
            "Numero Invalido, Tente algo entre 1 e 100: \n",
            "Adivinhe um numero de 1 a 100: 40\n",
            "frio\n",
            "Adivinhe um numero de 1 a 100: 30\n",
            "frio\n",
            "Adivinhe um numero de 1 a 100: 20\n",
            "Adivinhe um numero de 1 a 100: 10\n",
            "frio\n",
            "frio\n",
            "Adivinhe um numero de 1 a 100: 90\n",
            "fica frio ai\n",
            "Adivinhe um numero de 1 a 100: 85\n",
            "ta quentinho ta quentinho!! \n",
            "Adivinhe um numero de 1 a 100: 65\n",
            "chama o bombeiro!!\n",
            "Adivinhe um numero de 1 a 100: 63\n",
            "morno\n",
            "Adivinhe um numero de 1 a 100: 67\n",
            "Parabens voce acertou: \n",
            "Voce acertou em  9 tentativas.\n",
            "Pontos:  955\n"
          ]
        }
      ]
    },
    {
      "cell_type": "markdown",
      "source": [
        "2)Crie um programa que simula um caixa de supermercado. O usuário deve inserir o preço de cada item comprado e, após inserir todos os itens, o programa deve calcular o total da compra e aplicar um desconto de 5%, se o valor for pago a vista, caso contrário cobrança normal. Execute o programa até o usuário disser que deseja continuar."
      ],
      "metadata": {
        "id": "tW--QNoLNKae"
      }
    },
    {
      "cell_type": "code",
      "source": [
        "cond = True\n",
        "total = 0\n",
        "print (\"Digete a quantidade e produtos que voce quiser, quando quiser encerrar digete 0  \")\n",
        "while cond==True:\n",
        "  preco = float(input(\"Digite o preco do produto: \"))\n",
        "  if preco==0:\n",
        "    cond = False\n",
        "\n",
        "total = total + preco\n",
        "print\n"
      ],
      "metadata": {
        "colab": {
          "base_uri": "https://localhost:8080/",
          "height": 106
        },
        "id": "tMtu0G70NKo3",
        "outputId": "17bf4d92-2300-4e08-9290-54a2f734c26c"
      },
      "execution_count": null,
      "outputs": [
        {
          "output_type": "error",
          "ename": "SyntaxError",
          "evalue": "incomplete input (<ipython-input-77-f010e12946a4>, line 3)",
          "traceback": [
            "\u001b[0;36m  File \u001b[0;32m\"<ipython-input-77-f010e12946a4>\"\u001b[0;36m, line \u001b[0;32m3\u001b[0m\n\u001b[0;31m    while cond==True:\u001b[0m\n\u001b[0m                     ^\u001b[0m\n\u001b[0;31mSyntaxError\u001b[0m\u001b[0;31m:\u001b[0m incomplete input\n"
          ]
        }
      ]
    }
  ]
}